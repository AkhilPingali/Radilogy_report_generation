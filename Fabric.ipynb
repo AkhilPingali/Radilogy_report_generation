{
 "cells": [
  {
   "cell_type": "code",
   "execution_count": 12,
   "id": "b86b1cde-47af-4669-b048-f692f4000f0c",
   "metadata": {},
   "outputs": [],
   "source": [
    "import pandas as pd"
   ]
  },
  {
   "cell_type": "code",
   "execution_count": 16,
   "id": "5132347e-4a39-4e1d-984b-fae5e075cd57",
   "metadata": {},
   "outputs": [],
   "source": [
    "df=pd.read_csv(\"/Users/nuthankishoremaddineni/Desktop/mapping_results.csv\")"
   ]
  },
  {
   "cell_type": "code",
   "execution_count": 18,
   "id": "8ac373d4-1acd-4f7e-baa8-73a07c912743",
   "metadata": {},
   "outputs": [
    {
     "data": {
      "text/html": [
       "<div>\n",
       "<style scoped>\n",
       "    .dataframe tbody tr th:only-of-type {\n",
       "        vertical-align: middle;\n",
       "    }\n",
       "\n",
       "    .dataframe tbody tr th {\n",
       "        vertical-align: top;\n",
       "    }\n",
       "\n",
       "    .dataframe thead th {\n",
       "        text-align: right;\n",
       "    }\n",
       "</style>\n",
       "<table border=\"1\" class=\"dataframe\">\n",
       "  <thead>\n",
       "    <tr style=\"text-align: right;\">\n",
       "      <th></th>\n",
       "      <th>ReportID</th>\n",
       "      <th>ImageID</th>\n",
       "      <th>Findings</th>\n",
       "      <th>Impression</th>\n",
       "    </tr>\n",
       "  </thead>\n",
       "  <tbody>\n",
       "    <tr>\n",
       "      <th>0</th>\n",
       "      <td>CXR162</td>\n",
       "      <td>CXR162_IM-0401-1001</td>\n",
       "      <td>Heart size normal. Lungs are clear. XXXX are n...</td>\n",
       "      <td>Normal chest</td>\n",
       "    </tr>\n",
       "    <tr>\n",
       "      <th>1</th>\n",
       "      <td>CXR162</td>\n",
       "      <td>CXR162_IM-0401-2001</td>\n",
       "      <td>Heart size normal. Lungs are clear. XXXX are n...</td>\n",
       "      <td>Normal chest</td>\n",
       "    </tr>\n",
       "    <tr>\n",
       "      <th>2</th>\n",
       "      <td>CXR1390</td>\n",
       "      <td>CXR1390_IM-0249-1001</td>\n",
       "      <td>The heart size and pulmonary vascularity appea...</td>\n",
       "      <td>No evidence of active disease.</td>\n",
       "    </tr>\n",
       "    <tr>\n",
       "      <th>3</th>\n",
       "      <td>CXR1390</td>\n",
       "      <td>CXR1390_IM-0249-2001</td>\n",
       "      <td>The heart size and pulmonary vascularity appea...</td>\n",
       "      <td>No evidence of active disease.</td>\n",
       "    </tr>\n",
       "    <tr>\n",
       "      <th>4</th>\n",
       "      <td>CXR604</td>\n",
       "      <td>CXR604_IM-2193-1001</td>\n",
       "      <td>The heart size and pulmonary vascularity appea...</td>\n",
       "      <td>1. No evidence of active disease.</td>\n",
       "    </tr>\n",
       "  </tbody>\n",
       "</table>\n",
       "</div>"
      ],
      "text/plain": [
       "  ReportID               ImageID  \\\n",
       "0   CXR162   CXR162_IM-0401-1001   \n",
       "1   CXR162   CXR162_IM-0401-2001   \n",
       "2  CXR1390  CXR1390_IM-0249-1001   \n",
       "3  CXR1390  CXR1390_IM-0249-2001   \n",
       "4   CXR604   CXR604_IM-2193-1001   \n",
       "\n",
       "                                            Findings  \\\n",
       "0  Heart size normal. Lungs are clear. XXXX are n...   \n",
       "1  Heart size normal. Lungs are clear. XXXX are n...   \n",
       "2  The heart size and pulmonary vascularity appea...   \n",
       "3  The heart size and pulmonary vascularity appea...   \n",
       "4  The heart size and pulmonary vascularity appea...   \n",
       "\n",
       "                          Impression  \n",
       "0                       Normal chest  \n",
       "1                       Normal chest  \n",
       "2     No evidence of active disease.  \n",
       "3     No evidence of active disease.  \n",
       "4  1. No evidence of active disease.  "
      ]
     },
     "execution_count": 18,
     "metadata": {},
     "output_type": "execute_result"
    }
   ],
   "source": [
    "df.head()"
   ]
  },
  {
   "cell_type": "code",
   "execution_count": 24,
   "id": "717ee7f3-5fff-4938-99b8-808dc5e89a11",
   "metadata": {},
   "outputs": [
    {
     "data": {
      "image/png": "[encoded data removed]",
      "text/plain": [
       "<Figure size 640x480 with 1 Axes>"
      ]
     },
     "metadata": {},
     "output_type": "display_data"
    }
   ],
   "source": [
    "import matplotlib.pyplot as plt\n",
    "import seaborn as sns\n",
    "\n",
    "sns.histplot(df['ImageID'], bins=30)\n",
    "plt.show()\n"
   ]
  },
  {
   "cell_type": "code",
   "execution_count": null,
   "id": "4567c568-8ff5-48a8-bcb1-1561b8202eb6",
   "metadata": {},
   "outputs": [],
   "source": []
  }
 ],
 "metadata": {
  "kernelspec": {
   "display_name": "Python 3 (ipykernel)",
   "language": "python",
   "name": "python3"
  },
  "language_info": {
   "codemirror_mode": {
    "name": "ipython",
    "version": 3
   },
   "file_extension": ".py",
   "mimetype": "text/x-python",
   "name": "python",
   "nbconvert_exporter": "python",
   "pygments_lexer": "ipython3",
   "version": "3.11.8"
  }
 },
 "nbformat": 4,
 "nbformat_minor": 5
}
